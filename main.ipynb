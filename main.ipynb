{
 "cells": [
  {
   "cell_type": "markdown",
   "metadata": {},
   "source": [
    "# Cartpole: for newcomers to RL"
   ]
  },
  {
   "cell_type": "markdown",
   "metadata": {},
   "source": [
    "We will be working through the methods described in the [OpenAI Requests for Research][1] for the [Cartpole environment][2]. \n",
    "\n",
    "Specifically, we will start with a simple linear model (that has only four parameters), and use the sign of the weighted sum to choose between the two actions. We will then look at three methods for finding the best parameters:\n",
    "  1. The random guessing algorithm\n",
    "  2. The hill-climbing algorithm\n",
    "  3. Policy gradient algorithm\n",
    "\n",
    "\n",
    "[1]: https://openai.com/requests-for-research/#cartpole\n",
    "[2]: https://gym.openai.com/envs/CartPole-v0/"
   ]
  },
  {
   "cell_type": "markdown",
   "metadata": {},
   "source": [
    "## The Environment\n",
    "> The system is controlled by applying a force of +1 or -1 to the cart. The pendulum starts upright, and the goal is to prevent it from falling over. A reward of +1 is provided for every timestep that the pole remains upright. The episode ends when the pole is more than 15 degrees from vertical, or the cart moves more than 2.4 units from the center. \n",
    "\n",
    "> CartPole-v0 defines \"solving\" as getting average reward of 195.0 over 100 consecutive trials."
   ]
  },
  {
   "cell_type": "markdown",
   "metadata": {},
   "source": [
    "## The Random Guessing Algorithm\n",
    "> Generate 10,000 random configurations of the model's parameters, and pick the one that achieves the best cumulative reward. It is important to choose the distribution over the parameters correctly"
   ]
  },
  {
   "cell_type": "markdown",
   "metadata": {},
   "source": [
    "### Find optimal parameters"
   ]
  },
  {
   "cell_type": "code",
   "execution_count": 6,
   "metadata": {},
   "outputs": [],
   "source": [
    "import gym\n",
    "import numpy as np"
   ]
  },
  {
   "cell_type": "code",
   "execution_count": 7,
   "metadata": {},
   "outputs": [],
   "source": [
    "def run_episode(env, params):\n",
    "    total_reward = 0\n",
    "    num_timesteps = 200\n",
    "    \n",
    "    observation = env.reset()\n",
    "    for _ in xrange(num_timesteps):\n",
    "        action = 0 if np.matmul(params,observation) < 0 else 1\n",
    "        observation, reward, done, info = env.step(action)\n",
    "        total_reward += reward\n",
    "        \n",
    "        if done:\n",
    "            break    \n",
    "    return total_reward\n",
    "\n",
    "\n",
    "def random_params():\n",
    "    num_params = 4\n",
    "    return 2 * np.random.random(size=num_params) - 1"
   ]
  },
  {
   "cell_type": "code",
   "execution_count": 8,
   "metadata": {},
   "outputs": [
    {
     "name": "stdout",
     "output_type": "stream",
     "text": [
      "\u001b[33mWARN: gym.spaces.Box autodetected dtype as <type 'numpy.float32'>. Please provide explicit dtype.\u001b[0m\n",
      "best total reward: 200.0\n",
      "best parameters: [0.20483889 0.73917253 0.74116657 0.52343545]\n",
      "\n"
     ]
    }
   ],
   "source": [
    "# Find optimal parameters\n",
    "env = gym.make('CartPole-v0')\n",
    "\n",
    "num_episodes = 10000\n",
    "num_params = 4\n",
    "\n",
    "best_total_reward = 0\n",
    "best_params = None\n",
    "\n",
    "for _ in range(num_episodes):\n",
    "    params = random_params()\n",
    "    total_reward = run_episode(env, params)\n",
    "    \n",
    "    if total_reward > best_total_reward:\n",
    "        best_total_reward = total_reward\n",
    "        best_params = params\n",
    "                \n",
    "print \"best total reward: {}\\nbest parameters: {}\\n\".format(best_total_reward, best_params)"
   ]
  },
  {
   "cell_type": "markdown",
   "metadata": {},
   "source": [
    "### Watch result"
   ]
  },
  {
   "cell_type": "code",
   "execution_count": 4,
   "metadata": {},
   "outputs": [],
   "source": [
    "import os\n",
    "import os.path\n",
    "\n",
    "from gym.wrappers import Monitor\n",
    "from IPython.display import HTML"
   ]
  },
  {
   "cell_type": "code",
   "execution_count": 5,
   "metadata": {},
   "outputs": [],
   "source": [
    "# Log an epsiode with the best params.\n",
    "# https://discuss.openai.com/t/how-to-capture-video-feed-from-a-universe-game/954/2\n",
    "dir_path = 'random/'\n",
    "env = Monitor(env, dir_path, force=True)\n",
    "run_episode(env, best_params)\n",
    "env.close()"
   ]
  },
  {
   "cell_type": "code",
   "execution_count": 6,
   "metadata": {},
   "outputs": [],
   "source": [
    "# Get the video file path.\n",
    "for f in os.listdir(dir_path):\n",
    "    _, extension = os.path.splitext(f)\n",
    "    if extension == '.mp4':\n",
    "        video_path = os.path.join(dir_path, f)"
   ]
  },
  {
   "cell_type": "code",
   "execution_count": 7,
   "metadata": {},
   "outputs": [
    {
     "data": {
      "text/html": [
       "\n",
       "<div align=\"middle\">\n",
       "<video width=\"80%\" controls>\n",
       "    <source src=\"random/openaigym.video.0.754.video000000.mp4\" type=\"video/mp4\">\n",
       "</video></div>\n"
      ],
      "text/plain": [
       "<IPython.core.display.HTML object>"
      ]
     },
     "execution_count": 7,
     "metadata": {},
     "output_type": "execute_result"
    }
   ],
   "source": [
    "# Render the video inline.\n",
    "# https://gist.github.com/thanasi/ad31f798b747629e717bcebd2cad15cf\n",
    "html_str = \"\"\"\n",
    "<div align=\"middle\">\n",
    "<video width=\"80%\" controls>\n",
    "    <source src=\"{}\" type=\"video/mp4\">\n",
    "</video></div>\n",
    "\"\"\"\n",
    "html_str = html_str.format(video_path)\n",
    "HTML(html_str)"
   ]
  },
  {
   "cell_type": "markdown",
   "metadata": {},
   "source": [
    "### How efficient is this?"
   ]
  },
  {
   "cell_type": "code",
   "execution_count": 9,
   "metadata": {},
   "outputs": [],
   "source": [
    "import matplotlib.pyplot as plt\n",
    "%matplotlib inline"
   ]
  },
  {
   "cell_type": "code",
   "execution_count": 13,
   "metadata": {},
   "outputs": [],
   "source": [
    "def plot(episode_counts, title=None):\n",
    "    # https://stackoverflow.com/questions/5498008/pylab-histdata-normed-1-normalization-seems-to-work-incorrect\n",
    "    num_experiments = len(episode_counts)\n",
    "    weights = np.ones(num_experiments) / float(num_experiments)\n",
    "    plt.hist(episode_counts, normed=0, weights=weights);\n",
    "    \n",
    "    plt.title(title);\n",
    "    plt.xlabel('Episodes');\n",
    "    plt.ylabel('Frequency');"
   ]
  },
  {
   "cell_type": "code",
   "execution_count": 14,
   "metadata": {},
   "outputs": [
    {
     "data": {
      "image/png": "[encoded data removed]",
      "text/plain": [
       "<matplotlib.figure.Figure at 0x10535d150>"
      ]
     },
     "metadata": {},
     "output_type": "display_data"
    }
   ],
   "source": [
    "num_experiments = 1000\n",
    "perfect_score = 200\n",
    "episode_counts = []\n",
    "\n",
    "for _ in xrange(num_experiments):\n",
    "    for i in range(1, num_episodes + 1):\n",
    "        params = random_params()\n",
    "        total_reward = run_episode(env, params)\n",
    "        \n",
    "        if total_reward == perfect_score:\n",
    "            break\n",
    "            \n",
    "    episode_counts.append(i)\n",
    "\n",
    "plot(episode_counts, title='Random Guessing')"
   ]
  },
  {
   "cell_type": "markdown",
   "metadata": {},
   "source": [
    "In a majority of the experiments, we are able to find parameters, which give us a perfect score for a single episode, in l0 episodes or less."
   ]
  },
  {
   "cell_type": "markdown",
   "metadata": {},
   "source": [
    "## The Hill-Climbing Algorithm\n",
    "> Start with a random setting of the parameters, add a small amount of noise to the parameters, and evaluate the new parameter configuration. If it performs better than the old configuration, discard the old configuration and accept the new one. Repeat this process for some number of iterations. How long does it take to achieve perfect performance?"
   ]
  },
  {
   "cell_type": "code",
   "execution_count": 15,
   "metadata": {},
   "outputs": [
    {
     "data": {
      "image/png": "[encoded data removed]",
      "text/plain": [
       "<matplotlib.figure.Figure at 0x10e078d50>"
      ]
     },
     "metadata": {},
     "output_type": "display_data"
    }
   ],
   "source": [
    "num_episodes = 500\n",
    "noise_scale = 0.1\n",
    "episode_counts = []\n",
    "\n",
    "for j in xrange(num_experiments):\n",
    "    params = random_params()\n",
    "    reward = run_episode(env, params)\n",
    "    \n",
    "    for i in xrange(1, num_episodes + 1):\n",
    "        noise = noise_scale * random_params()\n",
    "        noise_reward = run_episode(env, params + noise)\n",
    "        \n",
    "        if noise_reward > reward:\n",
    "            reward = noise_reward\n",
    "            params += noise\n",
    "        \n",
    "        if reward == perfect_score:\n",
    "            break\n",
    "            \n",
    "    episode_counts.append(i)\n",
    "\n",
    "plot(episode_counts, title='Hill-Climbing')"
   ]
  },
  {
   "cell_type": "markdown",
   "metadata": {},
   "source": [
    "Most of our experiments never achieve a perfect score because they get stuck at some point where changing it slighlty yields no improvement in reward."
   ]
  },
  {
   "cell_type": "markdown",
   "metadata": {},
   "source": [
    "# References:\n",
    "\n",
    "  * [OpenAI docs][1]\n",
    "  * [OpenAI ROR: Cartpole][2]\n",
    "  * [KVFrans Cartpole blog post][3]\n",
    "  * [OpenAI Gym repo][4]\n",
    "  * [Cartpole-v0 environment doc][5]\n",
    "  \n",
    "  \n",
    "[1]: https://gym.openai.com/docs/\n",
    "[2]: https://openai.com/requests-for-research/#cartpole\n",
    "[3]: http://kvfrans.com/simple-algoritms-for-solving-cartpole/\n",
    "[4]: https://github.com/openai/gym\n",
    "[5]: https://gym.openai.com/envs/CartPole-v0/"
   ]
  },
  {
   "cell_type": "code",
   "execution_count": null,
   "metadata": {},
   "outputs": [],
   "source": []
  }
 ],
 "metadata": {
  "kernelspec": {
   "display_name": "Python 2",
   "language": "python",
   "name": "python2"
  },
  "language_info": {
   "codemirror_mode": {
    "name": "ipython",
    "version": 2
   },
   "file_extension": ".py",
   "mimetype": "text/x-python",
   "name": "python",
   "nbconvert_exporter": "python",
   "pygments_lexer": "ipython2",
   "version": "2.7.14"
  }
 },
 "nbformat": 4,
 "nbformat_minor": 2
}
