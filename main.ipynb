{
 "cells": [
  {
   "cell_type": "markdown",
   "metadata": {},
   "source": [
    "# Cartpole: for newcomers to RL"
   ]
  },
  {
   "cell_type": "markdown",
   "metadata": {},
   "source": [
    "We will be working through the methods described in the [OpenAI Requests for Research][1] for the [Cartpole environment][2]. \n",
    "\n",
    "Specifically, we will start with a simple linear model (that has only four parameters), and use the sign of the weighted sum to choose between the two actions. We will then look at three methods for finding the best parameters:\n",
    "  1. The random guessing algorithm\n",
    "  2. The hill-climbing algorithm\n",
    "  3. Policy gradient algorithm\n",
    "\n",
    "\n",
    "[1]: https://openai.com/requests-for-research/#cartpole\n",
    "[2]: https://gym.openai.com/envs/CartPole-v0/"
   ]
  },
  {
   "cell_type": "markdown",
   "metadata": {},
   "source": [
    "## The Environment\n",
    "> The system is controlled by applying a force of +1 or -1 to the cart. The pendulum starts upright, and the goal is to prevent it from falling over. A reward of +1 is provided for every timestep that the pole remains upright. The episode ends when the pole is more than 15 degrees from vertical, or the cart moves more than 2.4 units from the center. \n",
    "\n",
    "> CartPole-v0 defines \"solving\" as getting average reward of 195.0 over 100 consecutive trials."
   ]
  },
  {
   "cell_type": "markdown",
   "metadata": {},
   "source": [
    "## The Random Guessing Algorithm\n",
    "> Generate 10,000 random configurations of the model's parameters, and pick the one that achieves the best cumulative reward. It is important to choose the distribution over the parameters correctly"
   ]
  },
  {
   "cell_type": "markdown",
   "metadata": {},
   "source": [
    "### Find optimal parameters"
   ]
  },
  {
   "cell_type": "code",
   "execution_count": 1,
   "metadata": {},
   "outputs": [],
   "source": [
    "import gym\n",
    "import numpy as np"
   ]
  },
  {
   "cell_type": "code",
   "execution_count": 2,
   "metadata": {},
   "outputs": [],
   "source": [
    "def run_episode(env, params):\n",
    "    total_reward = 0\n",
    "    num_timesteps = 200\n",
    "    \n",
    "    observation = env.reset()\n",
    "    for _ in xrange(num_timesteps):\n",
    "        action = 0 if np.matmul(params,observation) < 0 else 1\n",
    "        observation, reward, done, info = env.step(action)\n",
    "        total_reward += reward\n",
    "    \n",
    "        if done:\n",
    "            break\n",
    "    \n",
    "    return total_reward"
   ]
  },
  {
   "cell_type": "code",
   "execution_count": 3,
   "metadata": {},
   "outputs": [
    {
     "name": "stdout",
     "output_type": "stream",
     "text": [
      "\u001b[33mWARN: gym.spaces.Box autodetected dtype as <type 'numpy.float32'>. Please provide explicit dtype.\u001b[0m\n",
      "best total reward: 200.0\n",
      "best parameters: [-0.15868992  0.53567141  0.58937563  0.62118454]\n",
      "\n"
     ]
    }
   ],
   "source": [
    "# Find optimal parameters\n",
    "env = gym.make('CartPole-v0')\n",
    "\n",
    "num_episodes = 10000\n",
    "num_params = 4\n",
    "\n",
    "best_total_reward = 0\n",
    "best_params = None\n",
    "\n",
    "for _ in range(num_episodes):\n",
    "    params = 2 * np.random.random(size=num_params) - 1\n",
    "    total_reward = run_episode(env, params)\n",
    "    \n",
    "    if total_reward > best_total_reward:\n",
    "        best_total_reward = total_reward\n",
    "        best_params = params\n",
    "        \n",
    "print \"best total reward: {}\\nbest parameters: {}\\n\".format(best_total_reward, best_params)"
   ]
  },
  {
   "cell_type": "markdown",
   "metadata": {},
   "source": [
    "### Watch result"
   ]
  },
  {
   "cell_type": "code",
   "execution_count": 4,
   "metadata": {},
   "outputs": [],
   "source": [
    "import os\n",
    "import os.path\n",
    "from time import sleep\n",
    "\n",
    "from gym.wrappers import Monitor\n",
    "from IPython.display import HTML"
   ]
  },
  {
   "cell_type": "code",
   "execution_count": 5,
   "metadata": {},
   "outputs": [],
   "source": [
    "# Log an epsiode with the best params.\n",
    "# https://discuss.openai.com/t/how-to-capture-video-feed-from-a-universe-game/954/2\n",
    "dir_path = 'random/'\n",
    "env = Monitor(env, dir_path, force=True)\n",
    "run_episode(env, best_params)\n",
    "env.close()"
   ]
  },
  {
   "cell_type": "code",
   "execution_count": 6,
   "metadata": {},
   "outputs": [],
   "source": [
    "# Get the video file path.\n",
    "for f in os.listdir(dir_path):\n",
    "    _, extension = os.path.splitext(f)\n",
    "    if extension == '.mp4':\n",
    "        video_path = os.path.join(dir_path, f)"
   ]
  },
  {
   "cell_type": "code",
   "execution_count": 7,
   "metadata": {},
   "outputs": [
    {
     "data": {
      "text/html": [
       "\n",
       "<div align=\"middle\">\n",
       "<video width=\"80%\" controls>\n",
       "    <source src=\"random/openaigym.video.0.754.video000000.mp4\" type=\"video/mp4\">\n",
       "</video></div>\n"
      ],
      "text/plain": [
       "<IPython.core.display.HTML object>"
      ]
     },
     "execution_count": 7,
     "metadata": {},
     "output_type": "execute_result"
    }
   ],
   "source": [
    "# Render the video inline.\n",
    "# https://gist.github.com/thanasi/ad31f798b747629e717bcebd2cad15cf\n",
    "html_str = \"\"\"\n",
    "<div align=\"middle\">\n",
    "<video width=\"80%\" controls>\n",
    "    <source src=\"{}\" type=\"video/mp4\">\n",
    "</video></div>\n",
    "\"\"\"\n",
    "html_str = html_str.format(video_path)\n",
    "HTML(html_str)"
   ]
  },
  {
   "cell_type": "markdown",
   "metadata": {},
   "source": [
    "# References:\n",
    "\n",
    "  * [OpenAI docs][1]\n",
    "  * [OpenAI ROR: Cartpole][2]\n",
    "  * [KVFrans Cartpole blog post][3]\n",
    "  * [OpenAI Gym repo][4]\n",
    "  * [Cartpole-v0 environment doc][5]\n",
    "  \n",
    "  \n",
    "[1]: https://gym.openai.com/docs/\n",
    "[2]: https://openai.com/requests-for-research/#cartpole\n",
    "[3]: http://kvfrans.com/simple-algoritms-for-solving-cartpole/\n",
    "[4]: https://github.com/openai/gym\n",
    "[5]: https://gym.openai.com/envs/CartPole-v0/"
   ]
  },
  {
   "cell_type": "code",
   "execution_count": null,
   "metadata": {},
   "outputs": [],
   "source": []
  }
 ],
 "metadata": {
  "kernelspec": {
   "display_name": "Python 2",
   "language": "python",
   "name": "python2"
  },
  "language_info": {
   "codemirror_mode": {
    "name": "ipython",
    "version": 2
   },
   "file_extension": ".py",
   "mimetype": "text/x-python",
   "name": "python",
   "nbconvert_exporter": "python",
   "pygments_lexer": "ipython2",
   "version": "2.7.14"
  }
 },
 "nbformat": 4,
 "nbformat_minor": 2
}
